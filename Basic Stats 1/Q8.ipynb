# -*- coding: utf-8 -*-
"""
Created on Mon Sep 11 19:00:04 2023

@author: batta
"""

import numpy as np
#column vector
weights=np.array([[108], [110], [123], [134], [135], [145], [167], [187], [199]])
x=np.mean(weights)
print('The Expected Value of the Weight of that patient is: ',x)