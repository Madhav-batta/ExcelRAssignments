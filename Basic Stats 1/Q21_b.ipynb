# -*- coding: utf-8 -*-
"""
Created on Wed Sep 13 07:47:42 2023

@author: batta
"""

import pandas as pd
df=pd.read_csv("wc-at.csv")
df.head()
df.shape

from scipy import stats
statistics, p_value= stats.normaltest(df['Waist'])

if p_value>=0.05:
    print('The Waist column is not normally distributed')
else:
    print('The Waist column is normally distributed')


staistics, p_value= stats.normaltest(df['AT'])

')

if p_value>=0.05:
    print('The AT column is not normally distributed' )
else:
    print('The AT column is normally distributed' )
