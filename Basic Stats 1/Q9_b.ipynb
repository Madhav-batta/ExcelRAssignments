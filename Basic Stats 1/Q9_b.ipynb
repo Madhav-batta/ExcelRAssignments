#skewness, kurtosis and Inferences

import pandas as pd
df=pd.read_csv("Q9_b.csv")
df.shape
df
#Skewness, Kurtosis of speed
df['SP'].describe()
df['SP'].hist()
df['SP'].skew()
df['SP'].kurt()

#Skewness, Kurtosis of dist
df['WT'].describe()
df['WT'].hist()
df['WT'].skew()
df['WT'].kurt()

import matplotlib.pyplot as plt
plt.scatter(x=df['SP'], y=df['WT'])
plt.show()
df[['SP','WT']].corr()
